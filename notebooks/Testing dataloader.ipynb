{
 "cells": [
  {
   "cell_type": "code",
   "execution_count": 1,
   "metadata": {},
   "outputs": [
    {
     "name": "stderr",
     "output_type": "stream",
     "text": [
      "C:\\Users\\lucas\\Anaconda3\\envs\\m_audio\\lib\\site-packages\\numpy\\_distributor_init.py:32: UserWarning: loaded more than 1 DLL from .libs:\n",
      "C:\\Users\\lucas\\Anaconda3\\envs\\m_audio\\lib\\site-packages\\numpy\\.libs\\libopenblas.TXA6YQSD3GCQQC22GEQ54J2UDCXDXHWN.gfortran-win_amd64.dll\n",
      "C:\\Users\\lucas\\Anaconda3\\envs\\m_audio\\lib\\site-packages\\numpy\\.libs\\libopenblas.WCDJNK7YVMPZQ2ME2ZZHJJRJ3JIKNDB7.gfortran-win_amd64.dll\n",
      "  stacklevel=1)\n"
     ]
    }
   ],
   "source": [
    "import sys\n",
    "sys.path.append(\"../\")\n",
    "\n",
    "# from src.dataloader.meta_loader import Dataloader4SER, NShotMAMLSampler\n",
    "from src.audio.audio import AudioProcessor\n",
    "\n",
    "import matplotlib.pyplot as plt\n",
    "%matplotlib inline"
   ]
  },
  {
   "cell_type": "code",
   "execution_count": 2,
   "metadata": {},
   "outputs": [],
   "source": [
    "'''\n",
    "Dataloader for SER in meta-learning approach\n",
    "'''\n",
    "\n",
    "import numpy as np\n",
    "import pandas as pd\n",
    "import torch.utils.data as data\n",
    "import torch\n",
    "import random\n",
    "from collections import defaultdict\n",
    "\n",
    "# First we define a global dataloader which simply loads\n",
    "# the pairs of wav files and emotion labels\n",
    "class Dataloader4SER(data.Dataset):\n",
    "    '''\n",
    "        Given a csv file with wav_path and label columns,\n",
    "        it returns pairs of raw wav_file path and labels.\n",
    "    \n",
    "        TODO: Process directly a disered audio transformation\n",
    "        (instead of pass the raw wav path pass the melspectrogram or the mfccs)\n",
    "    '''\n",
    "    def __init__(self, df_path, ap, pad_to=100, pad_value = 0):\n",
    "        self.df_path = df_path # Must have wav_path and labels columns\n",
    "        self.ap = ap\n",
    "        self.pad_to = pad_to\n",
    "        self.pad_value = pad_value\n",
    "        \n",
    "        self.all_data = pd.read_csv(self.df_path) # Must be comma delimited\n",
    "\n",
    "        cols = self.all_data.columns\n",
    "        if('wav_path' not in cols):\n",
    "            raise RuntimeError('There is no > wav_path < column.')\n",
    "\n",
    "        if('emotion' not in cols):\n",
    "            raise RuntimeError('There is no > emotion < column.')\n",
    "\n",
    "        # if('language' not in cols):\n",
    "        #     raise RuntimeError('There is no > language < column.')\n",
    "\n",
    "        # If dataset is complete then get the lists \n",
    "        self.x = self.all_data['wav_path'].to_list()\n",
    "        self.y = self.all_data['emotion'].to_list()\n",
    "        # self.l = self.all_data['language'].to_list()\n",
    "\n",
    "    def load_wav(self, filename):\n",
    "        audio = self.ap.load_wav(filename)\n",
    "        return audio\n",
    "\n",
    "    def load_data(self, index):\n",
    "        wav = self.x[index]\n",
    "        emotion = self.y[index]\n",
    "\n",
    "        # w = np.asarray(self.load_wav(wav), dtype=np.float32)\n",
    "        w = self.load_wav(wav)\n",
    "\n",
    "        mel = self.ap.melspectrogram(w).astype('float32')\n",
    "\n",
    "        mel_lengths = mel.shape[1]\n",
    "\n",
    "\n",
    "        # mel = prepare_tensor(mel, 1)\n",
    "        mel = mel.transpose(1, 0)\n",
    "\n",
    "\n",
    "        # log mel  \n",
    "#         mel = np.log(mel)\n",
    "\n",
    "        # pad mel\n",
    "        if(mel_lengths >= self.pad_to):\n",
    "            mel = mel[:self.pad_to, :]\n",
    "        else:\n",
    "            N = self.pad_to - mel_lengths\n",
    "            zeros = np.ones((N,80))*self.pad_value\n",
    "            mel = np.concatenate((mel, zeros), axis = 0)\n",
    "\n",
    "        # print(mel.shape)\n",
    "\n",
    "\n",
    "        mel = torch.FloatTensor(mel).contiguous()\n",
    "        # mel_lengths = torch.LongTensor(mel_lengths)\n",
    "\n",
    "\n",
    "        # return {'wav': w, 'emotion': np.asarray(emotion)}\n",
    "        return {'mel': mel, 'emotion': emotion}\n",
    "\n",
    "    def collate_fn(self, batch):\n",
    "\n",
    "        # w = batch[:,0]\n",
    "        # emotion = batch[:,1]\n",
    "        # print(w, emotion)\n",
    "        print(batch)\n",
    "\n",
    "        mel = [self.ap.melspectrogram(w).astype(\"float32\") for w in batch['wav']]\n",
    "        # mel = self.ap.melspectrogram(w).astype('float32')\n",
    "        mel_lengths = mel.shape[1]\n",
    "\n",
    "        mel = prepare_tensor(mel, self.outputs_per_step)\n",
    "        mel = mel.transpose(0, 2, 1)\n",
    "\n",
    "        mel = torch.FloatTensor(mel).contiguous()\n",
    "        mel_lengths = torch.LongTensor(mel_lengths)\n",
    "\n",
    "        return {'melspec': mel, 'mel_len': mel_lengths, 'emotion': torch.tensor(batch['emotion'])}\n",
    "\n",
    "    def __getitem__(self, index):\n",
    "        return self.load_data(index)\n",
    "\n",
    "    def __len__(self):\n",
    "        return len(self.x)\n",
    "\n",
    "\n",
    "class NShotMAMLSampler(object):\n",
    "    '''\n",
    "        NShotMAMLSampler returns batches of meta samples\n",
    "        in a N-samples way of each class \n",
    "    '''\n",
    "\n",
    "    def __init__(self, targets, n_way, k_shot, lang, n_episodes_per_iter, shuffle, shuffle_once, include_query):\n",
    "        '''\n",
    "          n_way: number of examples for each of the k classes\n",
    "        '''\n",
    "        self.targets = targets\n",
    "        self.n_way = n_way\n",
    "        self.k_shot = k_shot\n",
    "        self.language = lang\n",
    "        self.batch_size = n_way*k_shot\n",
    "        self.episodes = n_episodes_per_iter\n",
    "        self.shuffle = shuffle\n",
    "        self.shuffle_once = shuffle_once\n",
    "        self.include_query = include_query\n",
    "\n",
    "        # Organize samples per target value\n",
    "        self.classes = torch.unique(self.targets).tolist()\n",
    "        self.num_classes = len(self.classes)\n",
    "\n",
    "        self.idx_per_class = {}\n",
    "        self.batches_per_class = {}\n",
    "\n",
    "        for c in self.classes:\n",
    "          self.idx_per_class[c] = torch.where(self.targets == c)[0]\n",
    "          self.batches_per_class[c] = self.idx_per_class[c].shape[0]//self.k_shot\n",
    "\n",
    "\n",
    "        # Create a list of classes from which we select the N classes per batch\n",
    "        self.iterations = sum(self.batches_per_class.values()) // self.n_way\n",
    "        self.class_list = [c for c in self.classes for _ in range(self.batches_per_class[c])]\n",
    "        if shuffle_once or self.shuffle:\n",
    "            self.shuffle_data()\n",
    "        else:\n",
    "            # For testing, we iterate over classes instead of shuffling them\n",
    "            sort_idxs = [i+p*self.num_classes for i,\n",
    "                         c in enumerate(self.classes) for p in range(self.batches_per_class[c])]\n",
    "            self.class_list = np.array(self.class_list)[np.argsort(sort_idxs)].tolist()\n",
    "\n",
    "    def shuffle_data(self):\n",
    "        # Shuffle the examples per class\n",
    "        for c in self.classes:\n",
    "            perm = torch.randperm(self.idx_per_class[c].shape[0])\n",
    "            self.idx_per_class[c] = self.idx_per_class[c][perm]\n",
    "        # Shuffle the class list from which we sample. Note that this way of shuffling\n",
    "        # does not prevent to choose the same class twice in a batch. However, for\n",
    "        # training and validation, this is not a problem.\n",
    "        random.shuffle(self.class_list)\n",
    "\n",
    "    def __iter__(self):\n",
    "        # Shuffle data\n",
    "        if self.shuffle:\n",
    "            self.shuffle_data()\n",
    "\n",
    "        # Sample few-shot batches\n",
    "        start_index = defaultdict(int)\n",
    "        for it in range(self.iterations):\n",
    "            class_batch = self.class_list[it*self.n_way:(it+1)*self.n_way]  # Select N classes for the batch\n",
    "            index_batch = []\n",
    "            for c in class_batch:  # For each class, select the next K examples and add them to the batch\n",
    "                index_batch.extend(self.idx_per_class[c][start_index[c]:start_index[c]+self.k_shot])\n",
    "                start_index[c] += self.k_shot\n",
    "            if self.include_query:  # If we return support+query set, sort them so that they are easy to split\n",
    "                index_batch = index_batch[::2] + index_batch[1::2]\n",
    "            yield index_batch\n",
    "\n",
    "    def __len__(self):\n",
    "        return self.iterations\n",
    "      \n",
    "\n",
    "        "
   ]
  },
  {
   "cell_type": "code",
   "execution_count": 3,
   "metadata": {},
   "outputs": [
    {
     "data": {
      "text/plain": [
       "['LJ001-0001.wav', 'LJ001-0002.wav', 'LJ001-0003.wav']"
      ]
     },
     "execution_count": 3,
     "metadata": {},
     "output_type": "execute_result"
    }
   ],
   "source": [
    "# Generating debug test csv to read from debug_wavs path\n",
    "\n",
    "wav_path = \"../data/debug_wavs/\"\n",
    "\n",
    "import os\n",
    "\n",
    "os.listdir(wav_path)[:3]"
   ]
  },
  {
   "cell_type": "code",
   "execution_count": 4,
   "metadata": {},
   "outputs": [],
   "source": [
    "wavs = []\n",
    "emotions = []\n",
    "\n",
    "for i, wav in enumerate(os.listdir(wav_path)):\n",
    "    wavs.append(wav_path + wav)\n",
    "    emotions.append(i%6)#imod2 is a series of 0, 1, 2 and 3 just to simulate different emotions"
   ]
  },
  {
   "cell_type": "code",
   "execution_count": 5,
   "metadata": {},
   "outputs": [
    {
     "data": {
      "text/html": [
       "<div>\n",
       "<style scoped>\n",
       "    .dataframe tbody tr th:only-of-type {\n",
       "        vertical-align: middle;\n",
       "    }\n",
       "\n",
       "    .dataframe tbody tr th {\n",
       "        vertical-align: top;\n",
       "    }\n",
       "\n",
       "    .dataframe thead th {\n",
       "        text-align: right;\n",
       "    }\n",
       "</style>\n",
       "<table border=\"1\" class=\"dataframe\">\n",
       "  <thead>\n",
       "    <tr style=\"text-align: right;\">\n",
       "      <th></th>\n",
       "      <th>wav_path</th>\n",
       "      <th>emotion</th>\n",
       "    </tr>\n",
       "  </thead>\n",
       "  <tbody>\n",
       "    <tr>\n",
       "      <th>0</th>\n",
       "      <td>../data/debug_wavs/LJ001-0001.wav</td>\n",
       "      <td>0</td>\n",
       "    </tr>\n",
       "    <tr>\n",
       "      <th>1</th>\n",
       "      <td>../data/debug_wavs/LJ001-0002.wav</td>\n",
       "      <td>1</td>\n",
       "    </tr>\n",
       "    <tr>\n",
       "      <th>2</th>\n",
       "      <td>../data/debug_wavs/LJ001-0003.wav</td>\n",
       "      <td>2</td>\n",
       "    </tr>\n",
       "    <tr>\n",
       "      <th>3</th>\n",
       "      <td>../data/debug_wavs/LJ001-0004.wav</td>\n",
       "      <td>3</td>\n",
       "    </tr>\n",
       "    <tr>\n",
       "      <th>4</th>\n",
       "      <td>../data/debug_wavs/LJ001-0005.wav</td>\n",
       "      <td>4</td>\n",
       "    </tr>\n",
       "  </tbody>\n",
       "</table>\n",
       "</div>"
      ],
      "text/plain": [
       "                            wav_path  emotion\n",
       "0  ../data/debug_wavs/LJ001-0001.wav        0\n",
       "1  ../data/debug_wavs/LJ001-0002.wav        1\n",
       "2  ../data/debug_wavs/LJ001-0003.wav        2\n",
       "3  ../data/debug_wavs/LJ001-0004.wav        3\n",
       "4  ../data/debug_wavs/LJ001-0005.wav        4"
      ]
     },
     "execution_count": 5,
     "metadata": {},
     "output_type": "execute_result"
    }
   ],
   "source": [
    "import pandas as pd\n",
    "\n",
    "df = pd.DataFrame({'wav_path': wavs, 'emotion': emotions})\n",
    "df.to_csv(\"df.csv\", index = False)\n",
    "df.head()"
   ]
  },
  {
   "cell_type": "code",
   "execution_count": 6,
   "metadata": {},
   "outputs": [
    {
     "data": {
      "text/plain": [
       "1    4\n",
       "0    4\n",
       "5    3\n",
       "4    3\n",
       "3    3\n",
       "2    3\n",
       "Name: emotion, dtype: int64"
      ]
     },
     "execution_count": 6,
     "metadata": {},
     "output_type": "execute_result"
    }
   ],
   "source": [
    "df.emotion.value_counts()"
   ]
  },
  {
   "cell_type": "code",
   "execution_count": 7,
   "metadata": {},
   "outputs": [
    {
     "name": "stdout",
     "output_type": "stream",
     "text": [
      " > Setting up Audio Processor...\n",
      " | > sample_rate:22050\n",
      " | > resample:True\n",
      " | > duration:None\n",
      " | > num_mels:80\n",
      " | > log_func:np.log10\n",
      " | > min_level_db:-100\n",
      " | > frame_shift_ms:None\n",
      " | > frame_length_ms:None\n",
      " | > ref_level_db:20\n",
      " | > fft_size:1024\n",
      " | > power:None\n",
      " | > preemphasis:0.0\n",
      " | > griffin_lim_iters:None\n",
      " | > signal_norm:True\n",
      " | > symmetric_norm:None\n",
      " | > mel_fmin:80\n",
      " | > mel_fmax:7600\n",
      " | > spec_gain:20.0\n",
      " | > stft_pad_mode:reflect\n",
      " | > max_norm:4.0\n",
      " | > clip_norm:True\n",
      " | > do_trim_silence:False\n",
      " | > trim_db:60\n",
      " | > do_sound_norm:False\n",
      " | > do_amp_to_db_linear:True\n",
      " | > do_amp_to_db_mel:True\n",
      " | > stats_path:None\n",
      " | > base:10\n",
      " | > hop_length:256\n",
      " | > win_length:1024\n"
     ]
    }
   ],
   "source": [
    "# Testing loader\n",
    "N_WAY = 5\n",
    "K_SHOT = 5\n",
    "import torch.utils.data as data\n",
    "import torch\n",
    "\n",
    "ap = AudioProcessor(fft_size = 1024,\n",
    "                    hop_length = 256,\n",
    "                    win_length = 1024,\n",
    "                    pad_wav=False,\n",
    "                    num_mels = 80,\n",
    "                    mel_fmin = 80,\n",
    "                    mel_fmax = 7600,\n",
    "                    sample_rate = 22050,\n",
    "                    duration = None,\n",
    "                    resample = True,\n",
    "                    signal_norm= True,\n",
    "                    ref_level_db = 20,\n",
    "                    min_level_db = -100,\n",
    "                    symetric_norm = True,\n",
    "                    max_norm = 4)\n",
    "\n",
    "dataset = Dataloader4SER('df.csv', ap, pad_to = 250, pad_value = -3)"
   ]
  },
  {
   "cell_type": "code",
   "execution_count": 8,
   "metadata": {},
   "outputs": [],
   "source": [
    "dl = data.DataLoader(dataset)"
   ]
  },
  {
   "cell_type": "code",
   "execution_count": 9,
   "metadata": {},
   "outputs": [],
   "source": [
    "batch = next(iter(dl))"
   ]
  },
  {
   "cell_type": "code",
   "execution_count": 10,
   "metadata": {},
   "outputs": [
    {
     "data": {
      "text/plain": [
       "{'mel': tensor([[[0.5709, 0.7248, 0.0000,  ..., 0.0000, 0.0000, 0.0000],\n",
       "          [0.9525, 0.9890, 1.0505,  ..., 0.8029, 1.0163, 1.4931],\n",
       "          [1.2422, 1.2814, 1.2081,  ..., 0.9865, 1.2055, 1.7462],\n",
       "          ...,\n",
       "          [1.1026, 1.1290, 1.1860,  ..., 0.0000, 0.0080, 0.0000],\n",
       "          [1.2059, 1.1957, 0.8934,  ..., 0.0000, 0.0073, 0.0000],\n",
       "          [1.0774, 0.9445, 0.9764,  ..., 0.0000, 0.0000, 0.0000]]]),\n",
       " 'emotion': tensor([0])}"
      ]
     },
     "execution_count": 10,
     "metadata": {},
     "output_type": "execute_result"
    }
   ],
   "source": [
    "batch"
   ]
  },
  {
   "cell_type": "code",
   "execution_count": 11,
   "metadata": {},
   "outputs": [
    {
     "data": {
      "text/plain": [
       "array([-3., -3., -3., -3., -3., -3., -3., -3., -3., -3., -3., -3., -3.,\n",
       "       -3., -3., -3., -3., -3., -3., -3., -3., -3., -3., -3., -3., -3.,\n",
       "       -3., -3., -3., -3., -3., -3., -3., -3., -3., -3., -3., -3., -3.,\n",
       "       -3., -3., -3., -3., -3., -3., -3., -3., -3., -3., -3., -3., -3.,\n",
       "       -3., -3., -3., -3., -3., -3., -3., -3., -3., -3., -3., -3., -3.,\n",
       "       -3., -3., -3., -3., -3., -3., -3., -3., -3., -3., -3., -3., -3.,\n",
       "       -3., -3.], dtype=float32)"
      ]
     },
     "execution_count": 11,
     "metadata": {},
     "output_type": "execute_result"
    }
   ],
   "source": [
    "dataset.load_data(1)['mel'].detach().cpu().numpy()[-2]"
   ]
  },
  {
   "cell_type": "code",
   "execution_count": 12,
   "metadata": {},
   "outputs": [
    {
     "data": {
      "text/plain": [
       "array([-7.3242188e-04, -7.6293945e-04, -6.4086914e-04, ...,\n",
       "        7.3242188e-04,  2.1362305e-04,  6.1035156e-05], dtype=float32)"
      ]
     },
     "execution_count": 12,
     "metadata": {},
     "output_type": "execute_result"
    }
   ],
   "source": [
    "dataset.load_wav(dataset.x[0])"
   ]
  },
  {
   "cell_type": "code",
   "execution_count": 13,
   "metadata": {},
   "outputs": [
    {
     "data": {
      "text/plain": [
       "torch.Size([250, 80])"
      ]
     },
     "execution_count": 13,
     "metadata": {},
     "output_type": "execute_result"
    }
   ],
   "source": [
    "dataset.load_data(1)['mel'].shape"
   ]
  },
  {
   "cell_type": "code",
   "execution_count": 14,
   "metadata": {},
   "outputs": [
    {
     "data": {
      "text/plain": [
       "(250, 80)"
      ]
     },
     "execution_count": 14,
     "metadata": {},
     "output_type": "execute_result"
    }
   ],
   "source": [
    "dataset.load_data(0)['mel'].detach().numpy().shape"
   ]
  },
  {
   "cell_type": "code",
   "execution_count": 15,
   "metadata": {},
   "outputs": [
    {
     "data": {
      "text/plain": [
       "<matplotlib.image.AxesImage at 0x2119d833668>"
      ]
     },
     "execution_count": 15,
     "metadata": {},
     "output_type": "execute_result"
    },
    {
     "data": {
      "image/png": "[encoded data removed]",
      "text/plain": [
       "<Figure size 864x504 with 1 Axes>"
      ]
     },
     "metadata": {
      "needs_background": "light"
     },
     "output_type": "display_data"
    }
   ],
   "source": [
    "plt.figure(figsize=(12,7))\n",
    "plt.imshow(dataset.load_data(1)['mel'].detach().cpu().numpy().T, origin = 'lower')"
   ]
  },
  {
   "cell_type": "code",
   "execution_count": 18,
   "metadata": {},
   "outputs": [
    {
     "data": {
      "text/plain": [
       "(250, 80)"
      ]
     },
     "execution_count": 18,
     "metadata": {},
     "output_type": "execute_result"
    }
   ],
   "source": [
    "dataset.load_data(1)['mel'].detach().cpu().numpy().shape"
   ]
  },
  {
   "cell_type": "code",
   "execution_count": 24,
   "metadata": {},
   "outputs": [
    {
     "data": {
      "text/plain": [
       "'../data/debug_wavs/LJ001-0001.wav'"
      ]
     },
     "execution_count": 24,
     "metadata": {},
     "output_type": "execute_result"
    }
   ],
   "source": [
    "dataset.x[0]"
   ]
  },
  {
   "cell_type": "code",
   "execution_count": 32,
   "metadata": {},
   "outputs": [
    {
     "data": {
      "text/plain": [
       "(20, 832)"
      ]
     },
     "execution_count": 32,
     "metadata": {},
     "output_type": "execute_result"
    }
   ],
   "source": [
    "import librosa\n",
    "import numpy as np\n",
    "\n",
    "y, sr = librosa.load(dataset.x[0], sr = None)\n",
    "\n",
    "S = librosa.feature.melspectrogram(y, sr, fmin = 80, fmax = 7600, hop_length = 256, n_fft = 1024, n_mels = 80)\n",
    "\n",
    "librosa.feature.mfcc(S = np.log(S + 1e6), n_mfcc= 20, htk=False).shape"
   ]
  },
  {
   "cell_type": "code",
   "execution_count": 33,
   "metadata": {},
   "outputs": [],
   "source": [
    "import torch\n",
    "import torch.nn as nn\n",
    "import torch.nn.functional as F\n",
    "class Net(nn.Module):\n",
    "    \"\"\"\n",
    "    The base CNN model for MAML for few-shot learning.\n",
    "    The architecture is same as of the embedding in MatchingNet.\n",
    "    \"\"\"\n",
    "\n",
    "    def __init__(self, in_channels, num_classes, dataset='SER'):\n",
    "        \"\"\"\n",
    "        self.net returns:\n",
    "            [N, 64, 1, 1] for Omniglot (28x28)\n",
    "            [N, 64, 5, 5] for miniImageNet (84x84)\n",
    "        self.fc returns:\n",
    "            [N, num_classes]\n",
    "        \n",
    "        Args:\n",
    "            in_channels: number of input channels feeding into first conv_block\n",
    "            num_classes: number of classes for the task\n",
    "            dataset: for the measure of input units for self.fc, caused by \n",
    "                     difference of input size of 'Omniglot' and 'ImageNet'\n",
    "        \"\"\"\n",
    "        super(Net, self).__init__()\n",
    "        self.lstm_1 = nn.LSTM(20, 128 , batch_first = True)\n",
    "        self.lstm_2 = nn.LSTM(128, 128 , batch_first = True)\n",
    "        self.hidden = nn.Linear(128, 128)\n",
    "        self.hidden2targ = nn.Linear(128, num_classes)\n",
    "\n",
    "    def forward(self, X, params=None):\n",
    "        self.lstm_1.flatten_parameters()\n",
    "        lstm_out ,_ = self.lstm_1(X)\n",
    "        self.lstm_2.flatten_parameters()\n",
    "        _ ,(lstm_out, _) = self.lstm_2(lstm_out)\n",
    "        lstm_out = lstm_out[-1]\n",
    "        hidden_output = self.hidden(lstm_out)\n",
    "        #hidden_output = F.relu(hidden_output)\n",
    "        out = self.hidden2targ(hidden_output)\n",
    "        out = F.log_softmax(out, dim=1)\n",
    "        return out"
   ]
  },
  {
   "cell_type": "code",
   "execution_count": 16,
   "metadata": {},
   "outputs": [
    {
     "data": {
      "text/plain": [
       "<AxesSubplot:>"
      ]
     },
     "execution_count": 16,
     "metadata": {},
     "output_type": "execute_result"
    },
    {
     "data": {
      "image/png": "[encoded data removed]",
      "text/plain": [
       "<Figure size 432x288 with 1 Axes>"
      ]
     },
     "metadata": {
      "needs_background": "light"
     },
     "output_type": "display_data"
    }
   ],
   "source": [
    "import seaborn as sns\n",
    "\n",
    "sns.distplot(dataset.load_data(1)['mel'].squeeze().detach().cpu().numpy().T)"
   ]
  },
  {
   "cell_type": "markdown",
   "metadata": {},
   "source": [
    "# ok the dataset loading melspectrogra with custom padding and padding values is ok"
   ]
  },
  {
   "cell_type": "code",
   "execution_count": null,
   "metadata": {},
   "outputs": [],
   "source": [
    "# Lets dev the similar to Omniglot loader\n",
    "\n",
    "class SERNShot:\n",
    "    \n",
    "    def __init__(self, df_train_path, df_test_path, ap, batch_size, n_way, k_shot, k_query, pad_to = 200, pad_value = -3):\n",
    "        \n",
    "        self.df_train_path = df_train_path\n",
    "        self.df_test_path = df_test_path\n",
    "        self.ap = ap\n",
    "        self.pad_to = pad_to\n",
    "        self.pad_value = pad_value\n",
    "        self.batchsz = batch_size\n",
    "        self.n_way = n_way\n",
    "        self.k_shot = k_shot\n",
    "        self.k_query = k_query\n",
    "        \n",
    "        # Used for training, only 2 languages\n",
    "        self.dataset_train = Dataloader4SER(self.df_train_path, self.ap, pad_to = self.pad_to, pad_value = self.pad_value)\n",
    "        # Used for fine-tuning, the out-of-distribution language\n",
    "        self.dataset_test = Dataloader4SER(self.df_test_path, self.ap, pad_to = self.pad_to, pad_value = self.pad_value)\n",
    "        \n",
    "        self.length = self.pad_to\n",
    "        self.mel_dim = self.ap.num_mels\n",
    "        \n",
    "        x = self.dataset_train.x\n",
    "        y = self.dataset_train.y\n",
    "        \n",
    "        x_test = self.dataset_test.x\n",
    "        y_test = self.dataset_test.y\n",
    "        \n",
    "        temp = dict()\n",
    "        \n",
    "        for i in range(len(x)):\n",
    "            if(y[i] in temp.keys()):\n",
    "                temp[y[i]].append(self.dataset_train.load_data(i)['mel'].detach().numpy())\n",
    "            else:\n",
    "                temp[y[i]] = [self.dataset_train.load_data(i)['mel'].detach().numpy()]\n",
    "                \n",
    "        self.data = [] # It will be a [classes, mspec] array\n",
    "        for label, mspec in temp.items():\n",
    "            self.data.append(np.array(mspec))\n",
    "        \n",
    "        temp = dict()\n",
    "        \n",
    "        for i in range(len(x_test)):\n",
    "            if(y_test[i] in temp.keys()):\n",
    "                temp[y_test[i]].append(self.dataset_test.load_data(i)['mel'].detach().numpy())\n",
    "            else:\n",
    "                temp[y_test[i]] = [self.dataset_test.load_data(i)['mel'].detach().numpy()]\n",
    "                \n",
    "        self.test_data = [] # It will be a [classes, mspec] array\n",
    "        for label, mspec in temp.items():\n",
    "            self.test_data.append(np.array(mspec))\n",
    "        \n",
    "        self.data = np.array(self.data)\n",
    "        self.test_data = np.array(self.test_data)\n",
    "        \n",
    "        # Verbose\n",
    "        print(f\"There are {len(self.data)} samples for training and {len(self.test_data)} for out-of-distribution language.\")\n",
    "        \n",
    "        \n",
    "        self.n_cls_train = self.data.shape[0]\n",
    "        self.n_cls_test = self.test_data.shape[0]\n",
    "        \n",
    "        # Verbose \n",
    "        print(f\"n_class train = {self.n_cls_train} | n_class test = {self.n_cls_test}\")\n",
    "        \n",
    "        # Pointer of current read batch\n",
    "        self.indexes = {'train': 0, 'test': 0}\n",
    "        self.datasets = {'train': self.data, 'test': self.test_data}\n",
    "        \n",
    "        self.datasets_cache = {\"train\": self.load_data_cache(self.datasets[\"train\"]),  # current epoch data cached\n",
    "                               \"test\": self.load_data_cache(self.datasets[\"test\"])}\n",
    "        \n",
    "    def load_data_cache(self, data_pack):\n",
    "        \"\"\"\n",
    "        Collects several batches data for N-shot learning\n",
    "        :param data_pack: [cls_num, 20, 84, 84, 1]\n",
    "        :return: A list with [support_set_x, support_set_y, target_x, target_y] ready to be fed to our networks\n",
    "        \"\"\"\n",
    "        #  take 5 way 1 shot as example: 5 * 1\n",
    "        setsz = self.k_shot * self.n_way\n",
    "        querysz = self.k_query * self.n_way\n",
    "        data_cache = []\n",
    "\n",
    "        # print('preload next 50 caches of batchsz of batch.')\n",
    "        for sample in range(10):  # num of episodes\n",
    "\n",
    "            x_spts, y_spts, x_qrys, y_qrys = [], [], [], []\n",
    "            for i in range(self.batchsz):  # one batch means one set\n",
    "\n",
    "                x_spt, y_spt, x_qry, y_qry = [], [], [], []\n",
    "                selected_cls = np.random.choice(data_pack.shape[0], self.n_way, False)\n",
    "\n",
    "                for j, cur_class in enumerate(selected_cls):\n",
    "                    \n",
    "                    # Get min size over all classes as our min_sample to random select k_shot + k_query examples\n",
    "                    min_samples = np.min([s.shape[0] for s in data_pack])\n",
    "                    selected_img = np.random.choice(min_samples, self.k_shot + self.k_query, False)\n",
    "\n",
    "                    # meta-training and meta-test\n",
    "                    x_spt.append(data_pack[cur_class][selected_img[:self.k_shot]])\n",
    "                    x_qry.append(data_pack[cur_class][selected_img[self.k_shot:]])\n",
    "                    y_spt.append([j for _ in range(self.k_shot)])\n",
    "                    y_qry.append([j for _ in range(self.k_query)])\n",
    "\n",
    "                # shuffle inside a batch\n",
    "                perm = np.random.permutation(self.n_way * self.k_shot)\n",
    "#                 x_spt = np.array(x_spt).reshape(self.n_way * self.k_shot, 1, self.resize, self.resize)[perm]\n",
    "                x_spt = np.array(x_spt).reshape(self.n_way * self.k_shot, 1, self.length, self.mel_dim)[perm]\n",
    "                y_spt = np.array(y_spt).reshape(self.n_way * self.k_shot)[perm]\n",
    "                perm = np.random.permutation(self.n_way * self.k_query)\n",
    "#                 x_qry = np.array(x_qry).reshape(self.n_way * self.k_query, 1, self.resize, self.resize)[perm]\n",
    "                x_qry = np.array(x_qry).reshape(self.n_way * self.k_query, 1, self.length, self.mel_dim)[perm]\n",
    "                y_qry = np.array(y_qry).reshape(self.n_way * self.k_query)[perm]\n",
    "\n",
    "                # append [sptsz, 1, 84, 84] => [b, setsz, 1, 84, 84]\n",
    "                x_spts.append(x_spt)\n",
    "                y_spts.append(y_spt)\n",
    "                x_qrys.append(x_qry)\n",
    "                y_qrys.append(y_qry)\n",
    "\n",
    "\n",
    "            # [b, setsz, 1, 84, 84]\n",
    "#             x_spts = np.array(x_spts).astype(np.float32).reshape(self.batchsz, setsz, 1, self.resize, self.resize)\n",
    "            x_spts = np.array(x_spts).astype(np.float32).reshape(self.batchsz, setsz, 1, self.length, self.mel_dim)\n",
    "            y_spts = np.array(y_spts).astype(np.int).reshape(self.batchsz, setsz)\n",
    "            # [b, qrysz, 1, 84, 84]\n",
    "#             x_qrys = np.array(x_qrys).astype(np.float32).reshape(self.batchsz, querysz, 1, self.resize, self.resize)\n",
    "            x_qrys = np.array(x_qrys).astype(np.float32).reshape(self.batchsz, querysz, self.length, self.mel_dim)\n",
    "            y_qrys = np.array(y_qrys).astype(np.int).reshape(self.batchsz, querysz)\n",
    "\n",
    "            data_cache.append([x_spts, y_spts, x_qrys, y_qrys])\n",
    "\n",
    "        return data_cache\n",
    "\n",
    "    def next(self, mode='train'):\n",
    "        \"\"\"\n",
    "        Gets next batch from the dataset with name.\n",
    "        :param mode: The name of the splitting (one of \"train\", \"val\", \"test\")\n",
    "        :return:\n",
    "        \"\"\"\n",
    "        # update cache if indexes is larger cached num\n",
    "        if self.indexes[mode] >= len(self.datasets_cache[mode]):\n",
    "            self.indexes[mode] = 0\n",
    "            self.datasets_cache[mode] = self.load_data_cache(self.datasets[mode])\n",
    "\n",
    "        next_batch = self.datasets_cache[mode][self.indexes[mode]]\n",
    "        self.indexes[mode] += 1\n",
    "\n",
    "        return next_batch"
   ]
  },
  {
   "cell_type": "code",
   "execution_count": null,
   "metadata": {},
   "outputs": [],
   "source": [
    "nshot = SERNShot(df_train_path = 'df.csv', df_test_path = 'df.csv', ap = ap, batch_size = 2, n_way = 5, k_shot = 1, k_query = 1, pad_to = 200, pad_value = -3)"
   ]
  },
  {
   "cell_type": "code",
   "execution_count": null,
   "metadata": {},
   "outputs": [],
   "source": [
    "x_spt, y_spt, x_qry, y_qry = nshot.next('train')"
   ]
  },
  {
   "cell_type": "code",
   "execution_count": null,
   "metadata": {},
   "outputs": [],
   "source": [
    "y_spt , y_qry"
   ]
  },
  {
   "cell_type": "code",
   "execution_count": null,
   "metadata": {},
   "outputs": [],
   "source": [
    "x_spt.shape"
   ]
  },
  {
   "cell_type": "code",
   "execution_count": null,
   "metadata": {},
   "outputs": [],
   "source": [
    "sizes = []\n",
    "for v in nshot.data:\n",
    "    size_1 = v.shape[0]\n",
    "    sizes.append(size_1)"
   ]
  },
  {
   "cell_type": "code",
   "execution_count": null,
   "metadata": {},
   "outputs": [],
   "source": [
    "np.min(sizes)"
   ]
  },
  {
   "cell_type": "code",
   "execution_count": null,
   "metadata": {},
   "outputs": [],
   "source": []
  }
 ],
 "metadata": {
  "kernelspec": {
   "display_name": "m_audio",
   "language": "python",
   "name": "m_audio"
  },
  "language_info": {
   "codemirror_mode": {
    "name": "ipython",
    "version": 3
   },
   "file_extension": ".py",
   "mimetype": "text/x-python",
   "name": "python",
   "nbconvert_exporter": "python",
   "pygments_lexer": "ipython3",
   "version": "3.6.9"
  }
 },
 "nbformat": 4,
 "nbformat_minor": 4
}
