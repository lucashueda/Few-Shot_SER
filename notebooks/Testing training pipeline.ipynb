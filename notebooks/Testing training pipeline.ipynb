{
 "cells": [
  {
   "cell_type": "code",
   "execution_count": 1,
   "metadata": {},
   "outputs": [
    {
     "name": "stderr",
     "output_type": "stream",
     "text": [
      "C:\\Users\\lucas\\Anaconda3\\envs\\m_audio\\lib\\site-packages\\numpy\\_distributor_init.py:32: UserWarning: loaded more than 1 DLL from .libs:\n",
      "C:\\Users\\lucas\\Anaconda3\\envs\\m_audio\\lib\\site-packages\\numpy\\.libs\\libopenblas.TXA6YQSD3GCQQC22GEQ54J2UDCXDXHWN.gfortran-win_amd64.dll\n",
      "C:\\Users\\lucas\\Anaconda3\\envs\\m_audio\\lib\\site-packages\\numpy\\.libs\\libopenblas.WCDJNK7YVMPZQ2ME2ZZHJJRJ3JIKNDB7.gfortran-win_amd64.dll\n",
      "  stacklevel=1)\n"
     ]
    }
   ],
   "source": [
    "import sys\n",
    "sys.path.append(\"../\")\n",
    "\n",
    "from src.dataloader.meta_loader_mfcc import Dataloader4SER, NShotMAMLSampler, SERNShot\n",
    "from src.audio.audio import AudioProcessor\n",
    "\n",
    "from src.meta_learner.meta_learner import Meta\n",
    "\n",
    "import matplotlib.pyplot as plt\n",
    "%matplotlib inline"
   ]
  },
  {
   "cell_type": "code",
   "execution_count": 2,
   "metadata": {},
   "outputs": [
    {
     "name": "stdout",
     "output_type": "stream",
     "text": [
      " > Setting up Audio Processor...\n",
      " | > sample_rate:22050\n",
      " | > resample:True\n",
      " | > duration:None\n",
      " | > num_mels:80\n",
      " | > log_func:np.log10\n",
      " | > min_level_db:-100\n",
      " | > frame_shift_ms:None\n",
      " | > frame_length_ms:None\n",
      " | > ref_level_db:20\n",
      " | > fft_size:1024\n",
      " | > power:None\n",
      " | > preemphasis:0.0\n",
      " | > griffin_lim_iters:None\n",
      " | > signal_norm:True\n",
      " | > symmetric_norm:None\n",
      " | > mel_fmin:80\n",
      " | > mel_fmax:7600\n",
      " | > spec_gain:20.0\n",
      " | > stft_pad_mode:reflect\n",
      " | > max_norm:4.0\n",
      " | > clip_norm:True\n",
      " | > do_trim_silence:False\n",
      " | > trim_db:60\n",
      " | > do_sound_norm:False\n",
      " | > do_amp_to_db_linear:True\n",
      " | > do_amp_to_db_mel:True\n",
      " | > stats_path:None\n",
      " | > base:10\n",
      " | > hop_length:256\n",
      " | > win_length:1024\n",
      "There are 6 samples for training and 6 for out-of-distribution language.\n",
      "n_class train = 6 | n_class test = 6\n"
     ]
    },
    {
     "name": "stderr",
     "output_type": "stream",
     "text": [
      "..\\src\\dataloader\\meta_loader_mfcc.py:241: VisibleDeprecationWarning: Creating an ndarray from ragged nested sequences (which is a list-or-tuple of lists-or-tuples-or ndarrays with different lengths or shapes) is deprecated. If you meant to do this, you must specify 'dtype=object' when creating the ndarray\n",
      "  self.data = np.array(self.data)\n",
      "..\\src\\dataloader\\meta_loader_mfcc.py:242: VisibleDeprecationWarning: Creating an ndarray from ragged nested sequences (which is a list-or-tuple of lists-or-tuples-or ndarrays with different lengths or shapes) is deprecated. If you meant to do this, you must specify 'dtype=object' when creating the ndarray\n",
      "  self.test_data = np.array(self.test_data)\n"
     ]
    }
   ],
   "source": [
    "# Testing loader\n",
    "N_WAY = 5\n",
    "K_SHOT = 2\n",
    "import torch.utils.data as data\n",
    "import torch\n",
    "\n",
    "ap = AudioProcessor(fft_size = 1024,\n",
    "                    hop_length = 256,\n",
    "                    win_length = 1024,\n",
    "                    pad_wav=False,\n",
    "                    num_mels = 80,\n",
    "                    mel_fmin = 80,\n",
    "                    mel_fmax = 7600,\n",
    "                    sample_rate = 22050,\n",
    "                    duration = None,\n",
    "                    resample = True,\n",
    "                    signal_norm= True,\n",
    "                    ref_level_db = 20,\n",
    "                    min_level_db = -100,\n",
    "                    symetric_norm = True,\n",
    "                    max_norm = 4)\n",
    "\n",
    "nshot = SERNShot(df_train_path = 'df.csv', df_test_path = 'df.csv', ap = ap, batch_size = 2, n_way = N_WAY, k_shot = K_SHOT, k_query = K_SHOT//2, pad_to = 200, pad_value = -3)"
   ]
  },
  {
   "cell_type": "code",
   "execution_count": 8,
   "metadata": {},
   "outputs": [],
   "source": [
    "import numpy as np\n",
    "\n",
    "class ARGS:\n",
    "    \n",
    "    def __init__(self):\n",
    "    \n",
    "        self.update_lr = 0.01\n",
    "        self.meta_lr = 0.01\n",
    "        self.n_way = 7\n",
    "        self.k_spt = 2\n",
    "        self.k_qry = 1\n",
    "        self.task_num = 8\n",
    "        self.update_step = 5\n",
    "        self.update_step_test = 10\n",
    "        self.imgsz = 80\n",
    "        self.imgc = 1\n",
    "        self.epoch = 1\n",
    "        self.restore_path = None\n",
    "        self.log_path = None\n",
    "        \n",
    "args = ARGS()\n",
    "\n",
    "config = [\n",
    "        ('conv2d', [64, 1, 3, 3, 2, 1]),\n",
    "        ('relu', [True]),\n",
    "        ('bn', [64]),\n",
    "        ('conv2d', [64, 64, 3, 3, 2, 1]),\n",
    "        ('relu', [True]),\n",
    "        ('bn', [64]),\n",
    "        ('conv2d', [64, 64, 3, 3, 2, 1]),\n",
    "        ('relu', [True]),\n",
    "        ('bn', [64]),\n",
    "        ('conv2d', [64, 64, 3, 3, 2, 1]),\n",
    "        ('relu', [True]),\n",
    "        ('bn', [64]),\n",
    "        ('flatten', []),\n",
    "        ('linear', [args.n_way, 4160])\n",
    "    ]\n",
    "\n",
    "\n",
    "maml = Meta(args, config)"
   ]
  },
  {
   "cell_type": "code",
   "execution_count": 9,
   "metadata": {},
   "outputs": [
    {
     "name": "stdout",
     "output_type": "stream",
     "text": [
      "Meta(\n",
      "  (net): Learner(\n",
      "    conv2d:(ch_in:1, ch_out:64, k:3x3, stride:2, padding:1)\n",
      "    relu:(True,)\n",
      "    bn:(64,)\n",
      "    conv2d:(ch_in:64, ch_out:64, k:3x3, stride:2, padding:1)\n",
      "    relu:(True,)\n",
      "    bn:(64,)\n",
      "    conv2d:(ch_in:64, ch_out:64, k:3x3, stride:2, padding:1)\n",
      "    relu:(True,)\n",
      "    bn:(64,)\n",
      "    conv2d:(ch_in:64, ch_out:64, k:3x3, stride:2, padding:1)\n",
      "    relu:(True,)\n",
      "    bn:(64,)\n",
      "    flatten:()\n",
      "    linear:(in:4160, out:7)\n",
      "    \n",
      "    (vars): ParameterList(\n",
      "        (0): Parameter containing: [torch.FloatTensor of size 64x1x3x3]\n",
      "        (1): Parameter containing: [torch.FloatTensor of size 64]\n",
      "        (2): Parameter containing: [torch.FloatTensor of size 64]\n",
      "        (3): Parameter containing: [torch.FloatTensor of size 64]\n",
      "        (4): Parameter containing: [torch.FloatTensor of size 64x64x3x3]\n",
      "        (5): Parameter containing: [torch.FloatTensor of size 64]\n",
      "        (6): Parameter containing: [torch.FloatTensor of size 64]\n",
      "        (7): Parameter containing: [torch.FloatTensor of size 64]\n",
      "        (8): Parameter containing: [torch.FloatTensor of size 64x64x3x3]\n",
      "        (9): Parameter containing: [torch.FloatTensor of size 64]\n",
      "        (10): Parameter containing: [torch.FloatTensor of size 64]\n",
      "        (11): Parameter containing: [torch.FloatTensor of size 64]\n",
      "        (12): Parameter containing: [torch.FloatTensor of size 64x64x3x3]\n",
      "        (13): Parameter containing: [torch.FloatTensor of size 64]\n",
      "        (14): Parameter containing: [torch.FloatTensor of size 64]\n",
      "        (15): Parameter containing: [torch.FloatTensor of size 64]\n",
      "        (16): Parameter containing: [torch.FloatTensor of size 7x4160]\n",
      "        (17): Parameter containing: [torch.FloatTensor of size 7]\n",
      "    )\n",
      "    (vars_bn): ParameterList(\n",
      "        (0): Parameter containing: [torch.FloatTensor of size 64]\n",
      "        (1): Parameter containing: [torch.FloatTensor of size 64]\n",
      "        (2): Parameter containing: [torch.FloatTensor of size 64]\n",
      "        (3): Parameter containing: [torch.FloatTensor of size 64]\n",
      "        (4): Parameter containing: [torch.FloatTensor of size 64]\n",
      "        (5): Parameter containing: [torch.FloatTensor of size 64]\n",
      "        (6): Parameter containing: [torch.FloatTensor of size 64]\n",
      "        (7): Parameter containing: [torch.FloatTensor of size 64]\n",
      "    )\n",
      "  )\n",
      ")\n",
      "Total trainable tensors: 141063\n"
     ]
    }
   ],
   "source": [
    "tmp = filter(lambda x: x.requires_grad, maml.parameters())\n",
    "num = sum(map(lambda x: np.prod(x.shape), tmp))\n",
    "print(maml)\n",
    "print('Total trainable tensors:', num)"
   ]
  },
  {
   "cell_type": "code",
   "execution_count": 10,
   "metadata": {},
   "outputs": [],
   "source": [
    "device = 'cpu'"
   ]
  },
  {
   "cell_type": "code",
   "execution_count": 11,
   "metadata": {},
   "outputs": [],
   "source": [
    "for step in range(args.epoch):\n",
    "\n",
    "    x_spt, y_spt, x_qry, y_qry = nshot.next()\n",
    "    x_spt, y_spt, x_qry, y_qry = torch.from_numpy(x_spt).to(device), torch.from_numpy(y_spt).type(torch.LongTensor).to(device), \\\n",
    "                                 torch.from_numpy(x_qry).to(device), torch.from_numpy(y_qry).type(torch.LongTensor).to(device)\n",
    "\n",
    "    # set traning=True to update running_mean, running_variance, bn_weights, bn_bias\n",
    "    accs = maml(x_spt, y_spt, x_qry, y_qry)"
   ]
  },
  {
   "cell_type": "code",
   "execution_count": 12,
   "metadata": {},
   "outputs": [
    {
     "data": {
      "text/plain": [
       "tensor([[0, 2, 1, 4, 1, 3, 3, 0, 4, 2],\n",
       "        [2, 4, 0, 1, 4, 2, 3, 0, 1, 3]])"
      ]
     },
     "execution_count": 12,
     "metadata": {},
     "output_type": "execute_result"
    }
   ],
   "source": [
    "y_spt"
   ]
  },
  {
   "cell_type": "code",
   "execution_count": 27,
   "metadata": {},
   "outputs": [
    {
     "data": {
      "text/plain": [
       "torch.Size([200, 80])"
      ]
     },
     "execution_count": 27,
     "metadata": {},
     "output_type": "execute_result"
    }
   ],
   "source": [
    "x_spt[0][0][0].shape"
   ]
  },
  {
   "cell_type": "code",
   "execution_count": 28,
   "metadata": {},
   "outputs": [
    {
     "data": {
      "text/plain": [
       "<matplotlib.image.AxesImage at 0x20c20444c18>"
      ]
     },
     "execution_count": 28,
     "metadata": {},
     "output_type": "execute_result"
    },
    {
     "data": {
      "image/png": "[encoded data removed]",
      "text/plain": [
       "<Figure size 432x288 with 1 Axes>"
      ]
     },
     "metadata": {
      "needs_background": "light"
     },
     "output_type": "display_data"
    }
   ],
   "source": [
    "plt.imshow(x_spt[0][0][0].T.detach().cpu().numpy())"
   ]
  },
  {
   "cell_type": "code",
   "execution_count": 34,
   "metadata": {},
   "outputs": [
    {
     "data": {
      "text/plain": [
       "<matplotlib.image.AxesImage at 0x20c2a7b6550>"
      ]
     },
     "execution_count": 34,
     "metadata": {},
     "output_type": "execute_result"
    },
    {
     "data": {
      "image/png": "[encoded data removed]",
      "text/plain": [
       "<Figure size 432x288 with 1 Axes>"
      ]
     },
     "metadata": {
      "needs_background": "light"
     },
     "output_type": "display_data"
    }
   ],
   "source": [
    "plt.imshow(nshot.dataset_train.load_data(0)['mel'].T.detach().cpu().numpy())"
   ]
  },
  {
   "cell_type": "code",
   "execution_count": 68,
   "metadata": {},
   "outputs": [],
   "source": [
    "import librosa\n",
    "\n",
    "y, sr = librosa.load(nshot.dataset_train.x[0], sr = None)\n",
    "\n",
    "mspec = librosa.feature.melspectrogram(y, sr, fmin = 80, fmax = 7600, hop_length = 256, n_fft = 1024, n_mels = 80)\n",
    "\n",
    "mfcc = librosa.feature.mfcc(S = np.log(mspec + 1e-6), n_mfcc= 20, htk=False)"
   ]
  },
  {
   "cell_type": "code",
   "execution_count": 70,
   "metadata": {},
   "outputs": [
    {
     "data": {
      "text/plain": [
       "<matplotlib.image.AxesImage at 0x20c2ae6ea90>"
      ]
     },
     "execution_count": 70,
     "metadata": {},
     "output_type": "execute_result"
    },
    {
     "data": {
      "image/png": "[encoded data removed]",
      "text/plain": [
       "<Figure size 432x288 with 1 Axes>"
      ]
     },
     "metadata": {
      "needs_background": "light"
     },
     "output_type": "display_data"
    }
   ],
   "source": [
    "plt.imshow(mfcc[:,:50])"
   ]
  },
  {
   "cell_type": "code",
   "execution_count": 64,
   "metadata": {},
   "outputs": [],
   "source": [
    "# mfcc = np.log(mfcc + 1e-6)"
   ]
  },
  {
   "cell_type": "code",
   "execution_count": 71,
   "metadata": {},
   "outputs": [
    {
     "data": {
      "text/plain": [
       "(44.20903, -116.772064, -2.9181387)"
      ]
     },
     "execution_count": 71,
     "metadata": {},
     "output_type": "execute_result"
    }
   ],
   "source": [
    "mfcc.max(), mfcc.min(), mfcc.mean()"
   ]
  },
  {
   "cell_type": "code",
   "execution_count": 72,
   "metadata": {},
   "outputs": [
    {
     "data": {
      "text/plain": [
       "1e-06"
      ]
     },
     "execution_count": 72,
     "metadata": {},
     "output_type": "execute_result"
    }
   ],
   "source": [
    "1e-6"
   ]
  },
  {
   "cell_type": "code",
   "execution_count": null,
   "metadata": {},
   "outputs": [],
   "source": []
  },
  {
   "cell_type": "code",
   "execution_count": 13,
   "metadata": {},
   "outputs": [
    {
     "data": {
      "text/plain": [
       "array([0.1, 0.3, 0.3, 0.3, 0.3, 0.4])"
      ]
     },
     "execution_count": 13,
     "metadata": {},
     "output_type": "execute_result"
    }
   ],
   "source": [
    "accs"
   ]
  },
  {
   "cell_type": "code",
   "execution_count": 14,
   "metadata": {},
   "outputs": [
    {
     "name": "stdout",
     "output_type": "stream",
     "text": [
      "DONE!\n",
      "Test acc: [0.2 0.4 0.2 0.2 0.3 0.2 0.2 0.3 0.2 0.3 0.2]\n"
     ]
    }
   ],
   "source": [
    "accs = []\n",
    "for _ in range(10//args.task_num):\n",
    "    # test\n",
    "    x_spt, y_spt, x_qry, y_qry = nshot.next('test')\n",
    "    x_spt, y_spt, x_qry, y_qry = torch.from_numpy(x_spt).to(device), torch.from_numpy(y_spt).to(device).type(torch.LongTensor), \\\n",
    "                                 torch.from_numpy(x_qry).to(device), torch.from_numpy(y_qry).to(device).type(torch.LongTensor)\n",
    "\n",
    "    # split to single task each time\n",
    "    for x_spt_one, y_spt_one, x_qry_one, y_qry_one in zip(x_spt, y_spt, x_qry, y_qry):\n",
    "        test_acc = maml.finetunning(x_spt_one, y_spt_one, x_qry_one, y_qry_one)\n",
    "        accs.append( test_acc )\n",
    "\n",
    "    print(\"DONE!\")\n",
    "# [b, update_step+1]\n",
    "accs = np.array(accs).mean(axis=0).astype(np.float16)\n",
    "print('Test acc:', accs)\n"
   ]
  },
  {
   "cell_type": "code",
   "execution_count": 15,
   "metadata": {},
   "outputs": [
    {
     "data": {
      "text/plain": [
       "torch.Size([10, 1, 200, 80])"
      ]
     },
     "execution_count": 15,
     "metadata": {},
     "output_type": "execute_result"
    }
   ],
   "source": [
    "x_spt_one.shape"
   ]
  },
  {
   "cell_type": "code",
   "execution_count": 16,
   "metadata": {},
   "outputs": [],
   "source": [
    "from    copy import deepcopy\n",
    "net = deepcopy(maml.net)\n",
    "\n",
    "from    torch.nn import functional as F\n",
    "\n",
    "# 1. run the i-th task and compute loss for k=0\n",
    "logits = net(x_spt_one)\n",
    "loss = F.cross_entropy(logits, y_spt_one)\n",
    "grad = torch.autograd.grad(loss, net.parameters())\n",
    "fast_weights = list(map(lambda p: p[1] - maml.update_lr * p[0], zip(grad, net.parameters())))"
   ]
  },
  {
   "cell_type": "code",
   "execution_count": 17,
   "metadata": {},
   "outputs": [],
   "source": [
    "logits_q = net(x_qry_one, fast_weights, bn_training=True)"
   ]
  },
  {
   "cell_type": "code",
   "execution_count": 18,
   "metadata": {},
   "outputs": [
    {
     "data": {
      "text/plain": [
       "(torch.Size([5, 7]), torch.Size([5, 1, 200, 80]))"
      ]
     },
     "execution_count": 18,
     "metadata": {},
     "output_type": "execute_result"
    }
   ],
   "source": [
    "logits_q.shape, x_qry_one.shape"
   ]
  },
  {
   "cell_type": "code",
   "execution_count": 19,
   "metadata": {},
   "outputs": [],
   "source": [
    "pred_q = F.softmax(logits_q, dim=1).argmax(dim=1)\n",
    "correct = torch.eq(pred_q, y_qry_one).sum().item()  # convert to numpy"
   ]
  },
  {
   "cell_type": "code",
   "execution_count": 20,
   "metadata": {},
   "outputs": [
    {
     "data": {
      "text/plain": [
       "array([0.2, 0.2, 0.2, 0.2, 0.2, 0.2, 0.2, 0.2, 0.2, 0.2, 0.2])"
      ]
     },
     "execution_count": 20,
     "metadata": {},
     "output_type": "execute_result"
    }
   ],
   "source": [
    "test_acc"
   ]
  },
  {
   "cell_type": "code",
   "execution_count": 21,
   "metadata": {},
   "outputs": [
    {
     "data": {
      "text/plain": [
       "array([0.2, 0.2, 0.2, 0.2, 0.2, 0.2, 0.2, 0.2, 0.2, 0.2, 0.2])"
      ]
     },
     "execution_count": 21,
     "metadata": {},
     "output_type": "execute_result"
    }
   ],
   "source": [
    "test_acc"
   ]
  },
  {
   "cell_type": "code",
   "execution_count": 22,
   "metadata": {},
   "outputs": [
    {
     "data": {
      "text/plain": [
       "11"
      ]
     },
     "execution_count": 22,
     "metadata": {},
     "output_type": "execute_result"
    }
   ],
   "source": [
    "len(accs)"
   ]
  },
  {
   "cell_type": "code",
   "execution_count": null,
   "metadata": {},
   "outputs": [],
   "source": []
  },
  {
   "cell_type": "code",
   "execution_count": 97,
   "metadata": {},
   "outputs": [
    {
     "data": {
      "text/plain": [
       "1"
      ]
     },
     "execution_count": 97,
     "metadata": {},
     "output_type": "execute_result"
    }
   ],
   "source": [
    "10//args.task_num"
   ]
  },
  {
   "cell_type": "code",
   "execution_count": 98,
   "metadata": {},
   "outputs": [
    {
     "data": {
      "text/plain": [
       "torch.Size([5, 1, 200, 80])"
      ]
     },
     "execution_count": 98,
     "metadata": {},
     "output_type": "execute_result"
    }
   ],
   "source": [
    "x_qry_one.shape"
   ]
  },
  {
   "cell_type": "code",
   "execution_count": 99,
   "metadata": {},
   "outputs": [
    {
     "data": {
      "text/plain": [
       "torch.Size([10, 1, 200, 80])"
      ]
     },
     "execution_count": 99,
     "metadata": {},
     "output_type": "execute_result"
    }
   ],
   "source": [
    "x_spt_one.shape"
   ]
  },
  {
   "cell_type": "code",
   "execution_count": null,
   "metadata": {},
   "outputs": [],
   "source": []
  },
  {
   "cell_type": "code",
   "execution_count": null,
   "metadata": {},
   "outputs": [],
   "source": []
  }
 ],
 "metadata": {
  "kernelspec": {
   "display_name": "m_audio",
   "language": "python",
   "name": "m_audio"
  },
  "language_info": {
   "codemirror_mode": {
    "name": "ipython",
    "version": 3
   },
   "file_extension": ".py",
   "mimetype": "text/x-python",
   "name": "python",
   "nbconvert_exporter": "python",
   "pygments_lexer": "ipython3",
   "version": "3.6.9"
  }
 },
 "nbformat": 4,
 "nbformat_minor": 4
}
